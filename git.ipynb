{
  "nbformat": 4,
  "nbformat_minor": 0,
  "metadata": {
    "colab": {
      "name": "git.ipynb",
      "provenance": [],
      "collapsed_sections": [],
      "authorship_tag": "ABX9TyPUCDclay/ysQ0JEe0/Vj/b",
      "include_colab_link": true
    },
    "kernelspec": {
      "name": "python3",
      "display_name": "Python 3"
    }
  },
  "cells": [
    {
      "cell_type": "markdown",
      "metadata": {
        "id": "view-in-github",
        "colab_type": "text"
      },
      "source": [
        "<a href=\"https://colab.research.google.com/github/antoszy/CatCom/blob/main/git.ipynb\" target=\"_parent\"><img src=\"https://colab.research.google.com/assets/colab-badge.svg\" alt=\"Open In Colab\"/></a>"
      ]
    },
    {
      "cell_type": "markdown",
      "metadata": {
        "id": "7PHeyWoazNoD"
      },
      "source": [
        "#Mount and cd to repository"
      ]
    },
    {
      "cell_type": "code",
      "metadata": {
        "id": "HiC0q3WcYr4V",
        "outputId": "7394bbef-dd98-44a1-88e3-e5292458bfd7",
        "colab": {
          "base_uri": "https://localhost:8080/",
          "height": 34
        }
      },
      "source": [
        "from google.colab import drive\n",
        "from os import chdir\n",
        "drive.mount(\"/content/drive/\", force_remount=True)\n",
        "chdir(\"/content/drive/My Drive/catcom\")"
      ],
      "execution_count": 1,
      "outputs": [
        {
          "output_type": "stream",
          "text": [
            "Mounted at /content/drive/\n"
          ],
          "name": "stdout"
        }
      ]
    },
    {
      "cell_type": "markdown",
      "metadata": {
        "id": "8ycfOOJXzcGW"
      },
      "source": [
        "#Checkout branch"
      ]
    },
    {
      "cell_type": "code",
      "metadata": {
        "id": "zGVBTcP7dfZs",
        "outputId": "415d9695-3432-439d-813f-8f68f82ab1a8",
        "colab": {
          "base_uri": "https://localhost:8080/",
          "height": 52
        }
      },
      "source": [
        "!git checkout main"
      ],
      "execution_count": 2,
      "outputs": [
        {
          "output_type": "stream",
          "text": [
            "Already on 'main'\n",
            "Your branch is up to date with 'origin/main'.\n"
          ],
          "name": "stdout"
        }
      ]
    },
    {
      "cell_type": "markdown",
      "metadata": {
        "id": "jp0B00e0zhXT"
      },
      "source": [
        "#Check repo status"
      ]
    },
    {
      "cell_type": "code",
      "metadata": {
        "id": "wtH2g_SzvwtV",
        "outputId": "7e90761e-244e-4df2-b96c-7e701563f499",
        "colab": {
          "base_uri": "https://localhost:8080/",
          "height": 277
        }
      },
      "source": [
        "!git status"
      ],
      "execution_count": 6,
      "outputs": [
        {
          "output_type": "stream",
          "text": [
            "On branch main\n",
            "Your branch is up to date with 'origin/main'.\n",
            "\n",
            "Changes to be committed:\n",
            "  (use \"git reset HEAD <file>...\" to unstage)\n",
            "\n",
            "\t\u001b[32mnew file:   git.ipynb\u001b[m\n",
            "\n",
            "Untracked files:\n",
            "  (use \"git add <file>...\" to include in what will be committed)\n",
            "\n",
            "\t\u001b[31mdataset/\u001b[m\n",
            "\t\u001b[31mrecords_cat/\u001b[m\n",
            "\t\u001b[31mrecords_day/\u001b[m\n",
            "\n"
          ],
          "name": "stdout"
        }
      ]
    },
    {
      "cell_type": "markdown",
      "metadata": {
        "id": "CoJAj_M0zoI0"
      },
      "source": [
        "#Add files"
      ]
    },
    {
      "cell_type": "code",
      "metadata": {
        "id": "38D05_asv4py"
      },
      "source": [
        "!git add git.ipynb\n",
        "!git status"
      ],
      "execution_count": 5,
      "outputs": []
    },
    {
      "cell_type": "markdown",
      "metadata": {
        "id": "uts3nmRtzrMu"
      },
      "source": [
        "#Commit"
      ]
    },
    {
      "cell_type": "code",
      "metadata": {
        "id": "6Km3jl0swLe0",
        "outputId": "40e3b4e1-f528-4b01-ec91-53f7a9e9154e",
        "colab": {
          "base_uri": "https://localhost:8080/",
          "height": 69
        }
      },
      "source": [
        "!git config --global user.email \"michal.antoszxxx@gmail.com\"\n",
        "!git config --global user.name \"Michał Antoszxxx\"\n",
        "!git commit -s -m\"Add notebook with git functions\""
      ],
      "execution_count": 9,
      "outputs": [
        {
          "output_type": "stream",
          "text": [
            "[main eff2e62] Add notebook with git functions\n",
            " 1 file changed, 1 insertion(+)\n",
            " create mode 100644 git.ipynb\n"
          ],
          "name": "stdout"
        }
      ]
    },
    {
      "cell_type": "markdown",
      "metadata": {
        "id": "rj5W2SZVzztU"
      },
      "source": [
        "#Push"
      ]
    },
    {
      "cell_type": "code",
      "metadata": {
        "id": "AY00ZX76wosW"
      },
      "source": [
        "!git push"
      ],
      "execution_count": null,
      "outputs": []
    }
  ]
}